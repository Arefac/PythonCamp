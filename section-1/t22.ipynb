{
  "nbformat": 4,
  "nbformat_minor": 0,
  "metadata": {
    "colab": {
      "provenance": [],
      "mount_file_id": "1SKgbkumYiCRLuCeI_g7mI8fF9gmeoSFS",
      "authorship_tag": "ABX9TyPy/pRVGsXRspzIAEea7916",
      "include_colab_link": true
    },
    "kernelspec": {
      "name": "python3",
      "display_name": "Python 3"
    },
    "language_info": {
      "name": "python"
    }
  },
  "cells": [
    {
      "cell_type": "markdown",
      "metadata": {
        "id": "view-in-github",
        "colab_type": "text"
      },
      "source": [
        "<a href=\"https://colab.research.google.com/github/Arefac/PythonCamp/blob/main/t22.ipynb\" target=\"_parent\"><img src=\"https://colab.research.google.com/assets/colab-badge.svg\" alt=\"Open In Colab\"/></a>"
      ]
    },
    {
      "cell_type": "code",
      "execution_count": null,
      "metadata": {
        "colab": {
          "base_uri": "https://localhost:8080/",
          "height": 283
        },
        "id": "Iu_TvvCXB_jF",
        "outputId": "f3d3c7e1-545b-4c75-90af-53b763b74cb4"
      },
      "outputs": [
        {
          "output_type": "execute_result",
          "data": {
            "text/plain": [
              "[<matplotlib.lines.Line2D at 0x7f9a6f32e150>]"
            ]
          },
          "metadata": {},
          "execution_count": 70
        },
        {
          "output_type": "display_data",
          "data": {
            "text/plain": [
              "<Figure size 432x288 with 1 Axes>"
            ],
            "image/png": "[encoded data removed]"
          },
          "metadata": {
            "needs_background": "light"
          }
        }
      ],
      "source": [
        "import xlrd\n",
        "import numpy as np\n",
        "import matplotlib.pyplot as plt\n",
        "\n",
        "loc=\"/content/drive/MyDrive/شبکه های عصبی/22/\"\n",
        "wb=xlrd.open_workbook(loc+\"iran.xlsx\")\n",
        "sheet=wb.sheet_by_index(0)\n",
        "all_data=list()\n",
        "for i in range(1,sheet.nrows):\n",
        "  all_data.append(sheet.row_values(i))\n",
        "\n",
        "# np.random.shuffle(all_data)\n",
        "len_train=round(len(all_data)*100/100)\n",
        "x_train=list()\n",
        "y_train=list()\n",
        "for i in range(len_train):\n",
        "  y_train.append(all_data[i][0:1])\n",
        "  x_train.append(all_data[i][-1])\n",
        "x_train=np.array(x_train).reshape(len(x_train),1)\n",
        "x_train = (x_train - np.min(x_train))/np.ptp(x_train)\n",
        "y_train = (y_train - np.min(y_train))/np.ptp(y_train)\n",
        "list_one=np.full([len_train,1],1)\n",
        "x=np.append(x_train,list_one,1)\n",
        "y=np.array(y_train)\n",
        "x=np.array(x_train).reshape(len_train,1)\n",
        "plt.plot(x_train,y_train,'o')"
      ]
    },
    {
      "cell_type": "code",
      "source": [
        "class NeuralNetwork():\n",
        "    def __init__(self):\n",
        "        self.inputSize = 2\n",
        "        self.outputSize = 1\n",
        "        self.hiddenSize = 10\n",
        "        self.W1 = np.random.randn(self.inputSize,self.hiddenSize)\n",
        "        self.W2 = np.random.randn(self.hiddenSize, self.outputSize)\n",
        "        self.W2_bias=np.random.randn(self.hiddenSize+1, self.outputSize)\n",
        "        self.W2_bias[1::]= self.W2\n",
        "        self.b=0.1\n",
        "    def feedForward(self, X):\n",
        "\n",
        "        self.z = np.dot(X, self.W1)\n",
        "        self.z2 = self.sigmoid(self.z)\n",
        "\n",
        "        list_one=np.full([len(X),1],1)  # wight with bias\n",
        "        self.z2_tmp=np.append(self.z2,list_one,1)\n",
        "\n",
        "        self.z3 = np.dot(self.z2_tmp, self.W2_bias)\n",
        "        output = self.sigmoid(self.z3)\n",
        "        return output\n",
        "\n",
        "\n",
        "    def sigmoid(self, s, deriv=False):\n",
        "        if (deriv == True):\n",
        "            return s * (1 - s)\n",
        "        return 1/(1 + np.exp(-s))\n",
        "\n",
        "    def backward(self, X, y, output):\n",
        "\n",
        "        self.output_error = y - output\n",
        "        self.output_delta = self.b * self.output_error * self.sigmoid(output, deriv=True)\n",
        "\n",
        "        self.z2_error = self.output_delta.dot(self.W2.T) #z2 error: how much our hidden layer weights contribute to output error\n",
        "        self.z2_delta = self.b * self.z2_error * self.sigmoid(self.z2, deriv=True) #applying derivative of sigmoid to z2 error\n",
        "\n",
        "        self.W1 += X.T.dot(self.z2_delta) # adjusting first set (input -> hidden) weights\n",
        "        self.W2 += self.z2.T.dot(self.output_delta) # adjusting second set (hidden -> output) weights\n",
        "        self.W2_bias += self.z2_tmp.T.dot(self.output_delta)\n",
        "\n",
        "    def train(self, X, y):\n",
        "        list_one=np.full([len(X),1],1)\n",
        "        X=np.append(X,list_one,1)\n",
        "        output = self.feedForward(X)\n",
        "        self.backward(X, y, output)\n",
        "        return output"
      ],
      "metadata": {
        "id": "QJdasJ4gDkPk"
      },
      "execution_count": null,
      "outputs": []
    },
    {
      "cell_type": "code",
      "source": [
        "ep = NeuralNetwork()\n",
        "count_data=len(x_train)\n",
        "X=x_train\n",
        "Y=y_train\n",
        "all_data=np.append(X,Y,axis=1)\n",
        "MSE_epoch=list()\n",
        "for i in range(500000):\n",
        "  np.random.shuffle(all_data)\n",
        "  x=all_data[:,0]\n",
        "  y=all_data[:,1]\n",
        "  x=x.reshape((count_data,1))\n",
        "  y=y.reshape((count_data,1))\n",
        "  output=ep.train(x,y)\n",
        "  MSE_epoch.append(np.sum(np.square(y-output))/len(y))\n",
        "print(MSE_epoch)\n",
        "plt.subplots()\n",
        "plt.plot(range(500000),MSE_epoch)"
      ],
      "metadata": {
        "colab": {
          "base_uri": "https://localhost:8080/",
          "height": 466
        },
        "id": "quHbs0WQFEHN",
        "outputId": "4a3a1893-66ce-479a-b018-8917abcb4fd6"
      },
      "execution_count": null,
      "outputs": [
        {
          "output_type": "stream",
          "name": "stderr",
          "text": [
            "IOPub data rate exceeded.\n",
            "The notebook server will temporarily stop sending output\n",
            "to the client in order to avoid crashing it.\n",
            "To change this limit, set the config variable\n",
            "`--NotebookApp.iopub_data_rate_limit`.\n",
            "\n",
            "Current values:\n",
            "NotebookApp.iopub_data_rate_limit=1000000.0 (bytes/sec)\n",
            "NotebookApp.rate_limit_window=3.0 (secs)\n",
            "\n"
          ]
        },
        {
          "output_type": "execute_result",
          "data": {
            "text/plain": [
              "[<matplotlib.lines.Line2D at 0x7f9a6cab0210>]"
            ]
          },
          "metadata": {},
          "execution_count": 118
        },
        {
          "output_type": "display_data",
          "data": {
            "text/plain": [
              "<Figure size 432x288 with 1 Axes>"
            ],
            "image/png": "[encoded data removed]"
          },
          "metadata": {
            "needs_background": "light"
          }
        }
      ]
    },
    {
      "cell_type": "code",
      "source": [
        "x11=x_train\n",
        "list_one=np.full([len(x11),1],1)\n",
        "x_11=np.append(x11,list_one,1)\n",
        "out=ep.feedForward(x_11)\n",
        "print(out.shape)\n",
        "out_true=np.sin(x11)\n",
        "plt.subplots()\n",
        "plt.plot(X,out)\n",
        "# plt.subplots()\n",
        "plt.plot(X,Y,\"o\")\n",
        "\n",
        "\n",
        "\n",
        "\n",
        "\n"
      ],
      "metadata": {
        "colab": {
          "base_uri": "https://localhost:8080/",
          "height": 302
        },
        "id": "4-XXr6YmGAYZ",
        "outputId": "4e942e3d-52cd-4138-8d51-28b7cf5d71d8"
      },
      "execution_count": null,
      "outputs": [
        {
          "output_type": "stream",
          "name": "stdout",
          "text": [
            "(60, 1)\n"
          ]
        },
        {
          "output_type": "execute_result",
          "data": {
            "text/plain": [
              "[<matplotlib.lines.Line2D at 0x7f9a6c220ad0>]"
            ]
          },
          "metadata": {},
          "execution_count": 119
        },
        {
          "output_type": "display_data",
          "data": {
            "text/plain": [
              "<Figure size 432x288 with 1 Axes>"
            ],
            "image/png": "[encoded data removed]"
          },
          "metadata": {
            "needs_background": "light"
          }
        }
      ]
    },
    {
      "cell_type": "code",
      "source": [
        "plt.hist(MSE_epoch, bins=10, density=False)"
      ],
      "metadata": {
        "colab": {
          "base_uri": "https://localhost:8080/",
          "height": 375
        },
        "id": "5DnI83L3JXKY",
        "outputId": "5c9ae319-c02d-40e0-a419-2751c176ca48"
      },
      "execution_count": null,
      "outputs": [
        {
          "output_type": "execute_result",
          "data": {
            "text/plain": [
              "(array([4.97233e+05, 2.73000e+03, 2.70000e+01, 8.00000e+00, 0.00000e+00,\n",
              "        0.00000e+00, 0.00000e+00, 1.00000e+00, 0.00000e+00, 1.00000e+00]),\n",
              " array([3.25376525e-04, 4.08460324e-02, 8.13666884e-02, 1.21887344e-01,\n",
              "        1.62408000e-01, 2.02928656e-01, 2.43449312e-01, 2.83969968e-01,\n",
              "        3.24490624e-01, 3.65011280e-01, 4.05531936e-01]),\n",
              " <a list of 10 Patch objects>)"
            ]
          },
          "metadata": {},
          "execution_count": 120
        },
        {
          "output_type": "display_data",
          "data": {
            "text/plain": [
              "<Figure size 432x288 with 1 Axes>"
            ],
            "image/png": "[encoded data removed]"
          },
          "metadata": {
            "needs_background": "light"
          }
        }
      ]
    }
  ]
}
